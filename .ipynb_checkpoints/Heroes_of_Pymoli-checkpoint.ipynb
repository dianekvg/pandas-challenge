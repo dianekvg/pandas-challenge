{
 "cells": [
  {
   "cell_type": "markdown",
   "metadata": {},
   "source": [
    "# Heroes of Pymoli Sales Analysis\n",
    "=================================================="
   ]
  },
  {
   "cell_type": "code",
   "execution_count": null,
   "metadata": {
    "collapsed": true
   },
   "outputs": [],
   "source": [
    "import pandas as pd\n",
    "import os"
   ]
  },
  {
   "cell_type": "code",
   "execution_count": null,
   "metadata": {},
   "outputs": [],
   "source": [
    "#load (2) JSON; view file 1 headers\n",
    "json_path1 = os.path.join(\"Resources\",\"purchase_data.json\")\n",
    "json_path2 = os.path.join(\"Resources\",\"purchase_data2.json\")\n",
    "pd1 = pd.read_json(json_path1)\n",
    "pd2 = pd.read_json(json_path2)\n",
    "pd1.head()"
   ]
  },
  {
   "cell_type": "code",
   "execution_count": null,
   "metadata": {},
   "outputs": [],
   "source": [
    "#Get row count - file 1\n",
    "pd1_totrows = pd1['SN'].count()\n",
    "print (pd1_totrows)"
   ]
  },
  {
   "cell_type": "code",
   "execution_count": null,
   "metadata": {},
   "outputs": [],
   "source": [
    "#Check columns - file 1\n",
    "pd1.columns"
   ]
  },
  {
   "cell_type": "code",
   "execution_count": null,
   "metadata": {},
   "outputs": [],
   "source": [
    "#View file 2 headers\n",
    "pd2.head()"
   ]
  },
  {
   "cell_type": "code",
   "execution_count": null,
   "metadata": {},
   "outputs": [],
   "source": [
    "#Get row count - file 2\n",
    "pd2_totrows = pd2['SN'].count()\n",
    "print (pd2_totrows)"
   ]
  },
  {
   "cell_type": "code",
   "execution_count": null,
   "metadata": {},
   "outputs": [],
   "source": [
    "#Check columns - file 2\n",
    "pd2.columns"
   ]
  },
  {
   "cell_type": "code",
   "execution_count": null,
   "metadata": {},
   "outputs": [],
   "source": [
    "#Get total rows - both files\n",
    "total_rows = pd1_totrows + pd2_totrows\n",
    "print (total_rows)"
   ]
  },
  {
   "cell_type": "code",
   "execution_count": null,
   "metadata": {},
   "outputs": [],
   "source": [
    "#Union 2 files; view headers\n",
    "files = [pd1, pd2]\n",
    "allsales = pd.concat(files)\n",
    "allsales.head()"
   ]
  },
  {
   "cell_type": "code",
   "execution_count": null,
   "metadata": {},
   "outputs": [],
   "source": [
    "#Get row count - all sales\n",
    "allsales_totrows = allsales['SN'].count()\n",
    "print (allsales_totrows)"
   ]
  },
  {
   "cell_type": "code",
   "execution_count": null,
   "metadata": {},
   "outputs": [],
   "source": [
    "#Set age bins\n",
    "allsales['Age Group'] = \"<10\"\n",
    "allsales['Age Group'][allsales['Age'] > 9] = '10-14'\n",
    "allsales['Age Group'][allsales['Age'] > 14] = '15-19'\n",
    "allsales['Age Group'][allsales['Age'] > 19] = '20-24'\n",
    "allsales['Age Group'][allsales['Age'] > 24] = '25-29'\n",
    "allsales['Age Group'][allsales['Age'] > 29] = '30-34'\n",
    "allsales['Age Group'][allsales['Age'] > 34] = '35-39'\n",
    "allsales['Age Group'][allsales['Age'] > 39] = '40+'\n",
    "index = [\"<10\", \"10-14\", \"15-19\", \"20-24\", \"25-29\", \"30-34\", \"35-39\", \"40+\"]"
   ]
  },
  {
   "cell_type": "code",
   "execution_count": null,
   "metadata": {},
   "outputs": [],
   "source": [
    "#Check columns - all sales\n",
    "allsales.columns"
   ]
  },
  {
   "cell_type": "code",
   "execution_count": null,
   "metadata": {},
   "outputs": [],
   "source": [
    "#Get total sales\n",
    "totsales = allsales['Price'].sum()\n",
    "print (totsales)"
   ]
  },
  {
   "cell_type": "markdown",
   "metadata": {},
   "source": [
    "# Player Count"
   ]
  },
  {
   "cell_type": "code",
   "execution_count": null,
   "metadata": {},
   "outputs": [],
   "source": [
    "#Total number of players\n",
    "pc = {'Total Players': [allsales['SN'].nunique()]}\n",
    "playercount = pd.DataFrame(data=pc)\n",
    "playercount"
   ]
  },
  {
   "cell_type": "markdown",
   "metadata": {},
   "source": [
    "# Purchasing Analysis - Totals"
   ]
  },
  {
   "cell_type": "code",
   "execution_count": null,
   "metadata": {},
   "outputs": [],
   "source": [
    "#Number of Unique Items, Average Purchase Price, Total Number of Purchases, Total Revenue\n",
    "pa = {'Number of Unique Items':[allsales['Item ID'].nunique()],'Average Purchase Price':[allsales['Price'].mean()],'Total Number of Purchases':[allsales['SN'].count()],'Total Revenue':[allsales['Price'].sum()]}\n",
    "purchasinganalysis = pd.DataFrame(data=pa)\n",
    "purchasinganalysis['Average Purchase Price'] = purchasinganalysis['Average Purchase Price'].map('${:,.2f}'.format)\n",
    "purchasinganalysis['Total Revenue'] = purchasinganalysis['Total Revenue'].map('${:,.2f}'.format)\n",
    "purchasinganalysis = purchasinganalysis[['Number of Unique Items', 'Average Purchase Price', 'Total Number of Purchases', 'Total Revenue']]\n",
    "purchasinganalysis"
   ]
  },
  {
   "cell_type": "markdown",
   "metadata": {},
   "source": [
    "# Gender Demographics"
   ]
  },
  {
   "cell_type": "code",
   "execution_count": null,
   "metadata": {},
   "outputs": [],
   "source": [
    "#Percentage and Count of Male, Female, Other/Non-Disclosed Players\n",
    "allbuyers = allsales.drop_duplicates(subset=['SN'], keep='first')\n",
    "gendersummary = allbuyers.groupby([ \"Gender\"]).count()\n",
    "gendersummary = gendersummary.iloc[:,[0, 1]]\n",
    "gendersummary = gendersummary.rename(columns={'Age': 'Count'})\n",
    "gendersummary = gendersummary.rename(columns={'Item ID': 'Percentage'})\n",
    "allplayers = allbuyers['SN'].count()\n",
    "gendersummary['Percentage'] = (gendersummary['Percentage']/(allplayers))*100\n",
    "gendersummary['Percentage'] = gendersummary['Percentage'].map('{:,.1f}%'.format)\n",
    "gendersummary"
   ]
  },
  {
   "cell_type": "markdown",
   "metadata": {},
   "source": [
    "# Purchasing Analysis by Gender"
   ]
  },
  {
   "cell_type": "code",
   "execution_count": null,
   "metadata": {},
   "outputs": [],
   "source": [
    "#Purchase Count, Average Purchase Price, Total Purchase Value, Normalized Totals by gender\n",
    "gendersalescount = allsales.groupby( [ \"Gender\"] ).count()\n",
    "gendersalescount = gendersalescount.iloc[:,[0,1]]\n",
    "gendersalescount = gendersalescount.rename(columns={'Age': 'Purchase Count'})\n",
    "gendersalescount = gendersalescount.rename(columns={'Item ID': 'Average Purchase Price'})\n",
    "gendersalestotal = allsales.groupby( [ \"Gender\"] ).sum()\n",
    "gendersalestotal = gendersalestotal.iloc[:,[2]]\n",
    "gendersalestotal = gendersalestotal.rename(columns={'Price': 'Total Purchase Value'})\n",
    "purchasinganalysis = gendersalescount.join(gendersalestotal, how='outer')\n",
    "purchasinganalysis['Average Purchase Price'] = (purchasinganalysis['Total Purchase Value']/purchasinganalysis['Average Purchase Price'])\n",
    "purchasinganalysis = purchasinganalysis.join(gendersummary, how='outer')\n",
    "purchasinganalysis = purchasinganalysis.iloc[:,[0,1,2,3]]\n",
    "purchasinganalysis = purchasinganalysis.rename(columns={'Count': 'Normalized Totals'})\n",
    "purchasinganalysis['Normalized Totals'] = (purchasinganalysis['Total Purchase Value']/purchasinganalysis['Normalized Totals'])\n",
    "purchasinganalysis['Normalized Totals'] = purchasinganalysis['Normalized Totals'].map('${:,.2f}'.format)\n",
    "purchasinganalysis['Total Purchase Value'] = purchasinganalysis['Total Purchase Value'].map('${:,.2f}'.format)\n",
    "purchasinganalysis['Average Purchase Price'] = purchasinganalysis['Average Purchase Price'].map('${:,.2f}'.format)\n",
    "purchasinganalysis"
   ]
  },
  {
   "cell_type": "markdown",
   "metadata": {},
   "source": [
    "# Age Demographics"
   ]
  },
  {
   "cell_type": "code",
   "execution_count": null,
   "metadata": {},
   "outputs": [],
   "source": [
    "#Purchase Count, Average Purchase Price, Total Purchase Value and Normalized Totals by age bin\n",
    "agesummary = allbuyers.groupby([\"Age Group\"]).count()\n",
    "agegrouptotals = agesummary.iloc[:,[0]]\n",
    "agegrouptotals = agegrouptotals.rename(columns={'Age': 'Count'})\n",
    "agegrouptotals = pd.DataFrame(data=agegrouptotals, index=index)\n",
    "agesummary2 = allsales.groupby( [\"Age Group\"] ).count()\n",
    "agegroupsales = agesummary2.iloc[:,[0]]\n",
    "agegroupsales = agegroupsales.rename(columns={'Age': 'Purchase Count'})\n",
    "agegroupsales = pd.DataFrame(data=agegroupsales, index=index)\n",
    "purchasinganalysis2 = agegrouptotals.join(agegroupsales, how='outer')\n",
    "agesummary3 = allsales.groupby( [\"Age Group\"] ).sum()\n",
    "agegroupsalestotals = agesummary3.iloc[:,[2]]\n",
    "agegroupsalestotals = agegroupsalestotals.rename(columns={'Price': 'Total Purchase Value'})\n",
    "agegroupsalestotals = pd.DataFrame(data=agegroupsalestotals, index=index)\n",
    "purchasinganalysis2 = purchasinganalysis2.join(agegroupsalestotals, how='outer')\n",
    "purchasinganalysis2['Average Purchase Price'] = (purchasinganalysis2['Total Purchase Value']/purchasinganalysis2['Purchase Count'])\n",
    "purchasinganalysis2 = purchasinganalysis2.rename(columns={'Count': 'Normalized Totals'})\n",
    "purchasinganalysis2['Normalized Totals'] = (purchasinganalysis2['Total Purchase Value']/purchasinganalysis2['Normalized Totals'])\n",
    "purchasinganalysis2['Normalized Totals'] = purchasinganalysis2['Normalized Totals'].map('${:,.2f}'.format)\n",
    "purchasinganalysis2['Total Purchase Value'] = purchasinganalysis2['Total Purchase Value'].map('${:,.2f}'.format)\n",
    "purchasinganalysis2['Average Purchase Price'] = purchasinganalysis2['Average Purchase Price'].map('${:,.2f}'.format)\n",
    "purchasinganalysis2 = purchasinganalysis2[['Purchase Count', 'Average Purchase Price', 'Total Purchase Value', 'Normalized Totals']]\n",
    "purchasinganalysis2"
   ]
  },
  {
   "cell_type": "markdown",
   "metadata": {},
   "source": [
    "# Top Spenders"
   ]
  },
  {
   "cell_type": "code",
   "execution_count": null,
   "metadata": {},
   "outputs": [],
   "source": [
    "grpsn = allsales.groupby( [ \"SN\"] ).sum()\n",
    "sntotsales = grpsn.iloc[:,[2]]\n",
    "sntotsales = sntotsales.rename(columns={'Price': 'Total Purchase Value'})\n",
    "grpsn2 = allsales.groupby( [ \"SN\"] ).count()\n",
    "sncountsales = grpsn2.iloc[:,[0]]\n",
    "sncountsales = sncountsales.rename(columns={'Age': 'Purchase Count'})\n",
    "topspenders = sncountsales.join(sntotsales, how='outer')\n",
    "topspenders['Average Purchase Price'] = topspenders['Total Purchase Value']/topspenders['Purchase Count']\n",
    "topspenders['Average Purchase Price'] = topspenders['Average Purchase Price'].map('${:,.2f}'.format)\n",
    "topspenders = topspenders[['Purchase Count', 'Average Purchase Price', 'Total Purchase Value']]\n",
    "top5spenders = topspenders.sort_values(['Total Purchase Value'], ascending=False)\n",
    "top5spenders =  topspenders.nlargest(5, 'Total Purchase Value')\n",
    "top5spenders['Total Purchase Value'] = top5spenders['Total Purchase Value'].map('${:,.2f}'.format)\n",
    "top5spenders"
   ]
  },
  {
   "cell_type": "markdown",
   "metadata": {},
   "source": [
    "# Most Popular Items"
   ]
  },
  {
   "cell_type": "code",
   "execution_count": null,
   "metadata": {},
   "outputs": [],
   "source": [
    "grpop = allsales.groupby( [ \"Item ID\"] ).count()\n",
    "popitems = grpop.iloc[:,[0]]\n",
    "popitems = popitems.rename(columns={'Age': 'Purchase Count'})\n",
    "items = allsales.drop_duplicates(subset=['Item ID'], keep='first')\n",
    "itemslookup = items.iloc[:,[2,3,4]]\n",
    "itemslookup = itemslookup.set_index('Item ID')\n",
    "top5items = popitems.join(itemslookup, how='outer')\n",
    "top5items = top5items.rename(columns={'Price': 'Item Price'})\n",
    "top5items['Total Purchase Value'] = top5items['Item Price'] * top5items['Purchase Count']\n",
    "top5items = top5items[['Item Name', 'Purchase Count', 'Item Price', 'Total Purchase Value']]\n",
    "\n",
    "top5itemscount = top5items.sort_values(['Purchase Count'], ascending=False)\n",
    "top5itemscount = top5itemscount.nlargest(5, 'Purchase Count')\n",
    "top5itemscount['Item Price'] = top5itemscount['Item Price'].map('${:,.2f}'.format)\n",
    "top5itemscount['Total Purchase Value'] = top5itemscount['Total Purchase Value'].map('${:,.2f}'.format)\n",
    "top5itemscount"
   ]
  },
  {
   "cell_type": "markdown",
   "metadata": {},
   "source": [
    "# Most Profitable Items"
   ]
  },
  {
   "cell_type": "code",
   "execution_count": null,
   "metadata": {},
   "outputs": [],
   "source": [
    "top5itemsprof = top5items.sort_values(['Total Purchase Value'], ascending=False)\n",
    "top5itemsprof = top5itemsprof.nlargest(5, 'Total Purchase Value')\n",
    "top5itemsprof['Item Price'] = top5itemsprof['Item Price'].map('${:,.2f}'.format)\n",
    "top5itemsprof['Total Purchase Value'] = top5itemsprof['Total Purchase Value'].map('${:,.2f}'.format)\n",
    "top5itemsprof"
   ]
  }
 ],
 "metadata": {
  "anaconda-cloud": {},
  "kernelspec": {
   "display_name": "Python 3",
   "language": "python",
   "name": "python3"
  },
  "language_info": {
   "codemirror_mode": {
    "name": "ipython",
    "version": 3
   },
   "file_extension": ".py",
   "mimetype": "text/x-python",
   "name": "python",
   "nbconvert_exporter": "python",
   "pygments_lexer": "ipython3",
   "version": "3.6.3"
  }
 },
 "nbformat": 4,
 "nbformat_minor": 2
}
