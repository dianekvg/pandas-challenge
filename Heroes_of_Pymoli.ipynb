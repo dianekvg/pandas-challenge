{
 "cells": [
  {
   "cell_type": "markdown",
   "metadata": {},
   "source": [
    "# Heroes of Pymoli Sales Analysis\n",
    "=================================================="
   ]
  },
  {
   "cell_type": "code",
   "execution_count": 1,
   "metadata": {
    "collapsed": true
   },
   "outputs": [],
   "source": [
    "import pandas as pd\n",
    "import os"
   ]
  },
  {
   "cell_type": "code",
   "execution_count": 2,
   "metadata": {},
   "outputs": [
    {
     "data": {
      "text/html": [
       "<div>\n",
       "<style>\n",
       "    .dataframe thead tr:only-child th {\n",
       "        text-align: right;\n",
       "    }\n",
       "\n",
       "    .dataframe thead th {\n",
       "        text-align: left;\n",
       "    }\n",
       "\n",
       "    .dataframe tbody tr th {\n",
       "        vertical-align: top;\n",
       "    }\n",
       "</style>\n",
       "<table border=\"1\" class=\"dataframe\">\n",
       "  <thead>\n",
       "    <tr style=\"text-align: right;\">\n",
       "      <th></th>\n",
       "      <th>Age</th>\n",
       "      <th>Gender</th>\n",
       "      <th>Item ID</th>\n",
       "      <th>Item Name</th>\n",
       "      <th>Price</th>\n",
       "      <th>SN</th>\n",
       "    </tr>\n",
       "  </thead>\n",
       "  <tbody>\n",
       "    <tr>\n",
       "      <th>0</th>\n",
       "      <td>38</td>\n",
       "      <td>Male</td>\n",
       "      <td>165</td>\n",
       "      <td>Bone Crushing Silver Skewer</td>\n",
       "      <td>3.37</td>\n",
       "      <td>Aelalis34</td>\n",
       "    </tr>\n",
       "    <tr>\n",
       "      <th>1</th>\n",
       "      <td>21</td>\n",
       "      <td>Male</td>\n",
       "      <td>119</td>\n",
       "      <td>Stormbringer, Dark Blade of Ending Misery</td>\n",
       "      <td>2.32</td>\n",
       "      <td>Eolo46</td>\n",
       "    </tr>\n",
       "    <tr>\n",
       "      <th>2</th>\n",
       "      <td>34</td>\n",
       "      <td>Male</td>\n",
       "      <td>174</td>\n",
       "      <td>Primitive Blade</td>\n",
       "      <td>2.46</td>\n",
       "      <td>Assastnya25</td>\n",
       "    </tr>\n",
       "    <tr>\n",
       "      <th>3</th>\n",
       "      <td>21</td>\n",
       "      <td>Male</td>\n",
       "      <td>92</td>\n",
       "      <td>Final Critic</td>\n",
       "      <td>1.36</td>\n",
       "      <td>Pheusrical25</td>\n",
       "    </tr>\n",
       "    <tr>\n",
       "      <th>4</th>\n",
       "      <td>23</td>\n",
       "      <td>Male</td>\n",
       "      <td>63</td>\n",
       "      <td>Stormfury Mace</td>\n",
       "      <td>1.27</td>\n",
       "      <td>Aela59</td>\n",
       "    </tr>\n",
       "  </tbody>\n",
       "</table>\n",
       "</div>"
      ],
      "text/plain": [
       "   Age Gender  Item ID                                  Item Name  Price  \\\n",
       "0   38   Male      165                Bone Crushing Silver Skewer   3.37   \n",
       "1   21   Male      119  Stormbringer, Dark Blade of Ending Misery   2.32   \n",
       "2   34   Male      174                            Primitive Blade   2.46   \n",
       "3   21   Male       92                               Final Critic   1.36   \n",
       "4   23   Male       63                             Stormfury Mace   1.27   \n",
       "\n",
       "             SN  \n",
       "0     Aelalis34  \n",
       "1        Eolo46  \n",
       "2   Assastnya25  \n",
       "3  Pheusrical25  \n",
       "4        Aela59  "
      ]
     },
     "execution_count": 2,
     "metadata": {},
     "output_type": "execute_result"
    }
   ],
   "source": [
    "# load (2) JSON; view file 1 headers\n",
    "json_path1 = os.path.join(\"Resources\",\"purchase_data.json\")\n",
    "json_path2 = os.path.join(\"Resources\",\"purchase_data2.json\")\n",
    "pd1 = pd.read_json(json_path1)\n",
    "pd2 = pd.read_json(json_path2)\n",
    "pd1.head()"
   ]
  },
  {
   "cell_type": "code",
   "execution_count": 3,
   "metadata": {},
   "outputs": [
    {
     "name": "stdout",
     "output_type": "stream",
     "text": [
      "780\n"
     ]
    }
   ],
   "source": [
    "#Get row count - file 1\n",
    "pd1_totrows = pd1['SN'].count()\n",
    "print (pd1_totrows)"
   ]
  },
  {
   "cell_type": "code",
   "execution_count": 4,
   "metadata": {},
   "outputs": [
    {
     "data": {
      "text/plain": [
       "Index(['Age', 'Gender', 'Item ID', 'Item Name', 'Price', 'SN'], dtype='object')"
      ]
     },
     "execution_count": 4,
     "metadata": {},
     "output_type": "execute_result"
    }
   ],
   "source": [
    "#Check columns - file 1\n",
    "pd1.columns"
   ]
  },
  {
   "cell_type": "code",
   "execution_count": 5,
   "metadata": {},
   "outputs": [
    {
     "data": {
      "text/html": [
       "<div>\n",
       "<style>\n",
       "    .dataframe thead tr:only-child th {\n",
       "        text-align: right;\n",
       "    }\n",
       "\n",
       "    .dataframe thead th {\n",
       "        text-align: left;\n",
       "    }\n",
       "\n",
       "    .dataframe tbody tr th {\n",
       "        vertical-align: top;\n",
       "    }\n",
       "</style>\n",
       "<table border=\"1\" class=\"dataframe\">\n",
       "  <thead>\n",
       "    <tr style=\"text-align: right;\">\n",
       "      <th></th>\n",
       "      <th>Age</th>\n",
       "      <th>Gender</th>\n",
       "      <th>Item ID</th>\n",
       "      <th>Item Name</th>\n",
       "      <th>Price</th>\n",
       "      <th>SN</th>\n",
       "    </tr>\n",
       "  </thead>\n",
       "  <tbody>\n",
       "    <tr>\n",
       "      <th>0</th>\n",
       "      <td>20</td>\n",
       "      <td>Male</td>\n",
       "      <td>93</td>\n",
       "      <td>Apocalyptic Battlescythe</td>\n",
       "      <td>4.49</td>\n",
       "      <td>Iloni35</td>\n",
       "    </tr>\n",
       "    <tr>\n",
       "      <th>1</th>\n",
       "      <td>21</td>\n",
       "      <td>Male</td>\n",
       "      <td>12</td>\n",
       "      <td>Dawne</td>\n",
       "      <td>3.36</td>\n",
       "      <td>Aidaira26</td>\n",
       "    </tr>\n",
       "    <tr>\n",
       "      <th>2</th>\n",
       "      <td>17</td>\n",
       "      <td>Male</td>\n",
       "      <td>5</td>\n",
       "      <td>Putrid Fan</td>\n",
       "      <td>2.63</td>\n",
       "      <td>Irim47</td>\n",
       "    </tr>\n",
       "    <tr>\n",
       "      <th>3</th>\n",
       "      <td>17</td>\n",
       "      <td>Male</td>\n",
       "      <td>123</td>\n",
       "      <td>Twilight's Carver</td>\n",
       "      <td>2.55</td>\n",
       "      <td>Irith83</td>\n",
       "    </tr>\n",
       "    <tr>\n",
       "      <th>4</th>\n",
       "      <td>22</td>\n",
       "      <td>Male</td>\n",
       "      <td>154</td>\n",
       "      <td>Feral Katana</td>\n",
       "      <td>4.11</td>\n",
       "      <td>Philodil43</td>\n",
       "    </tr>\n",
       "  </tbody>\n",
       "</table>\n",
       "</div>"
      ],
      "text/plain": [
       "   Age Gender  Item ID                 Item Name  Price          SN\n",
       "0   20   Male       93  Apocalyptic Battlescythe   4.49     Iloni35\n",
       "1   21   Male       12                     Dawne   3.36   Aidaira26\n",
       "2   17   Male        5                Putrid Fan   2.63      Irim47\n",
       "3   17   Male      123         Twilight's Carver   2.55     Irith83\n",
       "4   22   Male      154              Feral Katana   4.11  Philodil43"
      ]
     },
     "execution_count": 5,
     "metadata": {},
     "output_type": "execute_result"
    }
   ],
   "source": [
    "#View file 2 headers\n",
    "pd2.head()"
   ]
  },
  {
   "cell_type": "code",
   "execution_count": 6,
   "metadata": {},
   "outputs": [
    {
     "name": "stdout",
     "output_type": "stream",
     "text": [
      "78\n"
     ]
    }
   ],
   "source": [
    "#Get row count - file 2\n",
    "pd2_totrows = pd2['SN'].count()\n",
    "print (pd2_totrows)"
   ]
  },
  {
   "cell_type": "code",
   "execution_count": 7,
   "metadata": {},
   "outputs": [
    {
     "data": {
      "text/plain": [
       "Index(['Age', 'Gender', 'Item ID', 'Item Name', 'Price', 'SN'], dtype='object')"
      ]
     },
     "execution_count": 7,
     "metadata": {},
     "output_type": "execute_result"
    }
   ],
   "source": [
    "#Check columns - file 2\n",
    "pd2.columns"
   ]
  },
  {
   "cell_type": "code",
   "execution_count": 8,
   "metadata": {},
   "outputs": [
    {
     "name": "stdout",
     "output_type": "stream",
     "text": [
      "858\n"
     ]
    }
   ],
   "source": [
    "#Get total rows - both files\n",
    "total_rows = pd1_totrows + pd2_totrows\n",
    "print (total_rows)"
   ]
  },
  {
   "cell_type": "code",
   "execution_count": 9,
   "metadata": {},
   "outputs": [
    {
     "data": {
      "text/html": [
       "<div>\n",
       "<style>\n",
       "    .dataframe thead tr:only-child th {\n",
       "        text-align: right;\n",
       "    }\n",
       "\n",
       "    .dataframe thead th {\n",
       "        text-align: left;\n",
       "    }\n",
       "\n",
       "    .dataframe tbody tr th {\n",
       "        vertical-align: top;\n",
       "    }\n",
       "</style>\n",
       "<table border=\"1\" class=\"dataframe\">\n",
       "  <thead>\n",
       "    <tr style=\"text-align: right;\">\n",
       "      <th></th>\n",
       "      <th>Age</th>\n",
       "      <th>Gender</th>\n",
       "      <th>Item ID</th>\n",
       "      <th>Item Name</th>\n",
       "      <th>Price</th>\n",
       "      <th>SN</th>\n",
       "    </tr>\n",
       "  </thead>\n",
       "  <tbody>\n",
       "    <tr>\n",
       "      <th>0</th>\n",
       "      <td>38</td>\n",
       "      <td>Male</td>\n",
       "      <td>165</td>\n",
       "      <td>Bone Crushing Silver Skewer</td>\n",
       "      <td>3.37</td>\n",
       "      <td>Aelalis34</td>\n",
       "    </tr>\n",
       "    <tr>\n",
       "      <th>1</th>\n",
       "      <td>21</td>\n",
       "      <td>Male</td>\n",
       "      <td>119</td>\n",
       "      <td>Stormbringer, Dark Blade of Ending Misery</td>\n",
       "      <td>2.32</td>\n",
       "      <td>Eolo46</td>\n",
       "    </tr>\n",
       "    <tr>\n",
       "      <th>2</th>\n",
       "      <td>34</td>\n",
       "      <td>Male</td>\n",
       "      <td>174</td>\n",
       "      <td>Primitive Blade</td>\n",
       "      <td>2.46</td>\n",
       "      <td>Assastnya25</td>\n",
       "    </tr>\n",
       "    <tr>\n",
       "      <th>3</th>\n",
       "      <td>21</td>\n",
       "      <td>Male</td>\n",
       "      <td>92</td>\n",
       "      <td>Final Critic</td>\n",
       "      <td>1.36</td>\n",
       "      <td>Pheusrical25</td>\n",
       "    </tr>\n",
       "    <tr>\n",
       "      <th>4</th>\n",
       "      <td>23</td>\n",
       "      <td>Male</td>\n",
       "      <td>63</td>\n",
       "      <td>Stormfury Mace</td>\n",
       "      <td>1.27</td>\n",
       "      <td>Aela59</td>\n",
       "    </tr>\n",
       "  </tbody>\n",
       "</table>\n",
       "</div>"
      ],
      "text/plain": [
       "   Age Gender  Item ID                                  Item Name  Price  \\\n",
       "0   38   Male      165                Bone Crushing Silver Skewer   3.37   \n",
       "1   21   Male      119  Stormbringer, Dark Blade of Ending Misery   2.32   \n",
       "2   34   Male      174                            Primitive Blade   2.46   \n",
       "3   21   Male       92                               Final Critic   1.36   \n",
       "4   23   Male       63                             Stormfury Mace   1.27   \n",
       "\n",
       "             SN  \n",
       "0     Aelalis34  \n",
       "1        Eolo46  \n",
       "2   Assastnya25  \n",
       "3  Pheusrical25  \n",
       "4        Aela59  "
      ]
     },
     "execution_count": 9,
     "metadata": {},
     "output_type": "execute_result"
    }
   ],
   "source": [
    "#Union 2 files; view headers\n",
    "files = [pd1, pd2]\n",
    "allsales = pd.concat(files)\n",
    "allsales.head()"
   ]
  },
  {
   "cell_type": "code",
   "execution_count": 10,
   "metadata": {},
   "outputs": [
    {
     "name": "stdout",
     "output_type": "stream",
     "text": [
      "858\n"
     ]
    }
   ],
   "source": [
    "#Get row count - all sales\n",
    "allsales_totrows = allsales['SN'].count()\n",
    "print (allsales_totrows)"
   ]
  },
  {
   "cell_type": "code",
   "execution_count": 11,
   "metadata": {},
   "outputs": [
    {
     "name": "stderr",
     "output_type": "stream",
     "text": [
      "C:\\Users\\Diane\\Anaconda3\\lib\\site-packages\\ipykernel_launcher.py:3: SettingWithCopyWarning: \n",
      "A value is trying to be set on a copy of a slice from a DataFrame\n",
      "\n",
      "See the caveats in the documentation: http://pandas.pydata.org/pandas-docs/stable/indexing.html#indexing-view-versus-copy\n",
      "  This is separate from the ipykernel package so we can avoid doing imports until\n",
      "C:\\Users\\Diane\\Anaconda3\\lib\\site-packages\\ipykernel_launcher.py:4: SettingWithCopyWarning: \n",
      "A value is trying to be set on a copy of a slice from a DataFrame\n",
      "\n",
      "See the caveats in the documentation: http://pandas.pydata.org/pandas-docs/stable/indexing.html#indexing-view-versus-copy\n",
      "  after removing the cwd from sys.path.\n",
      "C:\\Users\\Diane\\Anaconda3\\lib\\site-packages\\ipykernel_launcher.py:5: SettingWithCopyWarning: \n",
      "A value is trying to be set on a copy of a slice from a DataFrame\n",
      "\n",
      "See the caveats in the documentation: http://pandas.pydata.org/pandas-docs/stable/indexing.html#indexing-view-versus-copy\n",
      "  \"\"\"\n",
      "C:\\Users\\Diane\\Anaconda3\\lib\\site-packages\\ipykernel_launcher.py:6: SettingWithCopyWarning: \n",
      "A value is trying to be set on a copy of a slice from a DataFrame\n",
      "\n",
      "See the caveats in the documentation: http://pandas.pydata.org/pandas-docs/stable/indexing.html#indexing-view-versus-copy\n",
      "  \n",
      "C:\\Users\\Diane\\Anaconda3\\lib\\site-packages\\ipykernel_launcher.py:7: SettingWithCopyWarning: \n",
      "A value is trying to be set on a copy of a slice from a DataFrame\n",
      "\n",
      "See the caveats in the documentation: http://pandas.pydata.org/pandas-docs/stable/indexing.html#indexing-view-versus-copy\n",
      "  import sys\n",
      "C:\\Users\\Diane\\Anaconda3\\lib\\site-packages\\ipykernel_launcher.py:8: SettingWithCopyWarning: \n",
      "A value is trying to be set on a copy of a slice from a DataFrame\n",
      "\n",
      "See the caveats in the documentation: http://pandas.pydata.org/pandas-docs/stable/indexing.html#indexing-view-versus-copy\n",
      "  \n",
      "C:\\Users\\Diane\\Anaconda3\\lib\\site-packages\\ipykernel_launcher.py:9: SettingWithCopyWarning: \n",
      "A value is trying to be set on a copy of a slice from a DataFrame\n",
      "\n",
      "See the caveats in the documentation: http://pandas.pydata.org/pandas-docs/stable/indexing.html#indexing-view-versus-copy\n",
      "  if __name__ == '__main__':\n"
     ]
    }
   ],
   "source": [
    "#Set age bins\n",
    "allsales['Age Group'] = \"<10\"\n",
    "allsales['Age Group'][allsales['Age'] > 9] = '10-14'\n",
    "allsales['Age Group'][allsales['Age'] > 14] = '15-19'\n",
    "allsales['Age Group'][allsales['Age'] > 19] = '20-24'\n",
    "allsales['Age Group'][allsales['Age'] > 24] = '25-29'\n",
    "allsales['Age Group'][allsales['Age'] > 29] = '30-34'\n",
    "allsales['Age Group'][allsales['Age'] > 34] = '35-39'\n",
    "allsales['Age Group'][allsales['Age'] > 39] = '40+'\n",
    "index = [\"<10\", \"10-14\", \"15-19\", \"20-24\", \"25-29\", \"30-34\", \"35-39\", \"40+\"]"
   ]
  },
  {
   "cell_type": "code",
   "execution_count": 12,
   "metadata": {},
   "outputs": [
    {
     "data": {
      "text/plain": [
       "Index(['Age', 'Gender', 'Item ID', 'Item Name', 'Price', 'SN', 'Age Group'], dtype='object')"
      ]
     },
     "execution_count": 12,
     "metadata": {},
     "output_type": "execute_result"
    }
   ],
   "source": [
    "#Check columns - all sales\n",
    "allsales.columns"
   ]
  },
  {
   "cell_type": "code",
   "execution_count": 13,
   "metadata": {},
   "outputs": [
    {
     "name": "stdout",
     "output_type": "stream",
     "text": [
      "2514.4299999999967\n"
     ]
    }
   ],
   "source": [
    "#Get total sales\n",
    "totsales = allsales['Price'].sum()\n",
    "print (totsales)"
   ]
  },
  {
   "cell_type": "markdown",
   "metadata": {},
   "source": [
    "# Player Count"
   ]
  },
  {
   "cell_type": "code",
   "execution_count": 14,
   "metadata": {},
   "outputs": [
    {
     "data": {
      "text/html": [
       "<div>\n",
       "<style>\n",
       "    .dataframe thead tr:only-child th {\n",
       "        text-align: right;\n",
       "    }\n",
       "\n",
       "    .dataframe thead th {\n",
       "        text-align: left;\n",
       "    }\n",
       "\n",
       "    .dataframe tbody tr th {\n",
       "        vertical-align: top;\n",
       "    }\n",
       "</style>\n",
       "<table border=\"1\" class=\"dataframe\">\n",
       "  <thead>\n",
       "    <tr style=\"text-align: right;\">\n",
       "      <th></th>\n",
       "      <th>Total Players</th>\n",
       "    </tr>\n",
       "  </thead>\n",
       "  <tbody>\n",
       "    <tr>\n",
       "      <th>0</th>\n",
       "      <td>612</td>\n",
       "    </tr>\n",
       "  </tbody>\n",
       "</table>\n",
       "</div>"
      ],
      "text/plain": [
       "   Total Players\n",
       "0            612"
      ]
     },
     "execution_count": 14,
     "metadata": {},
     "output_type": "execute_result"
    }
   ],
   "source": [
    "#Total number of players\n",
    "pc = {'Total Players': [allsales['SN'].nunique()]}\n",
    "playercount = pd.DataFrame(data=pc)\n",
    "playercount"
   ]
  },
  {
   "cell_type": "markdown",
   "metadata": {},
   "source": [
    "# Purchasing Analysis - Totals"
   ]
  },
  {
   "cell_type": "code",
   "execution_count": 15,
   "metadata": {},
   "outputs": [
    {
     "data": {
      "text/html": [
       "<div>\n",
       "<style>\n",
       "    .dataframe thead tr:only-child th {\n",
       "        text-align: right;\n",
       "    }\n",
       "\n",
       "    .dataframe thead th {\n",
       "        text-align: left;\n",
       "    }\n",
       "\n",
       "    .dataframe tbody tr th {\n",
       "        vertical-align: top;\n",
       "    }\n",
       "</style>\n",
       "<table border=\"1\" class=\"dataframe\">\n",
       "  <thead>\n",
       "    <tr style=\"text-align: right;\">\n",
       "      <th></th>\n",
       "      <th>Number of Unique Items</th>\n",
       "      <th>Average Purchase Price</th>\n",
       "      <th>Total Number of Purchases</th>\n",
       "      <th>Total Revenue</th>\n",
       "    </tr>\n",
       "  </thead>\n",
       "  <tbody>\n",
       "    <tr>\n",
       "      <th>0</th>\n",
       "      <td>184</td>\n",
       "      <td>$2.93</td>\n",
       "      <td>858</td>\n",
       "      <td>$2,514.43</td>\n",
       "    </tr>\n",
       "  </tbody>\n",
       "</table>\n",
       "</div>"
      ],
      "text/plain": [
       "   Number of Unique Items Average Purchase Price  Total Number of Purchases  \\\n",
       "0                     184                  $2.93                        858   \n",
       "\n",
       "  Total Revenue  \n",
       "0     $2,514.43  "
      ]
     },
     "execution_count": 15,
     "metadata": {},
     "output_type": "execute_result"
    }
   ],
   "source": [
    "#Number of Unique Items, Average Purchase Price, Total Number of Purchases, Total Revenue\n",
    "pa = {'Number of Unique Items':[allsales['Item ID'].nunique()],'Average Purchase Price':[allsales['Price'].mean()],'Total Number of Purchases':[allsales['SN'].count()],'Total Revenue':[allsales['Price'].sum()]}\n",
    "purchasinganalysis = pd.DataFrame(data=pa)\n",
    "purchasinganalysis['Average Purchase Price'] = purchasinganalysis['Average Purchase Price'].map('${:,.2f}'.format)\n",
    "purchasinganalysis['Total Revenue'] = purchasinganalysis['Total Revenue'].map('${:,.2f}'.format)\n",
    "purchasinganalysis = purchasinganalysis[['Number of Unique Items', 'Average Purchase Price', 'Total Number of Purchases', 'Total Revenue']]\n",
    "purchasinganalysis"
   ]
  },
  {
   "cell_type": "markdown",
   "metadata": {},
   "source": [
    "# Gender Demographics"
   ]
  },
  {
   "cell_type": "code",
   "execution_count": 16,
   "metadata": {},
   "outputs": [
    {
     "data": {
      "text/html": [
       "<div>\n",
       "<style>\n",
       "    .dataframe thead tr:only-child th {\n",
       "        text-align: right;\n",
       "    }\n",
       "\n",
       "    .dataframe thead th {\n",
       "        text-align: left;\n",
       "    }\n",
       "\n",
       "    .dataframe tbody tr th {\n",
       "        vertical-align: top;\n",
       "    }\n",
       "</style>\n",
       "<table border=\"1\" class=\"dataframe\">\n",
       "  <thead>\n",
       "    <tr style=\"text-align: right;\">\n",
       "      <th></th>\n",
       "      <th>Count</th>\n",
       "      <th>Percentage</th>\n",
       "    </tr>\n",
       "    <tr>\n",
       "      <th>Gender</th>\n",
       "      <th></th>\n",
       "      <th></th>\n",
       "    </tr>\n",
       "  </thead>\n",
       "  <tbody>\n",
       "    <tr>\n",
       "      <th>Female</th>\n",
       "      <td>108</td>\n",
       "      <td>17.6%</td>\n",
       "    </tr>\n",
       "    <tr>\n",
       "      <th>Male</th>\n",
       "      <td>495</td>\n",
       "      <td>80.9%</td>\n",
       "    </tr>\n",
       "    <tr>\n",
       "      <th>Other / Non-Disclosed</th>\n",
       "      <td>9</td>\n",
       "      <td>1.5%</td>\n",
       "    </tr>\n",
       "  </tbody>\n",
       "</table>\n",
       "</div>"
      ],
      "text/plain": [
       "                       Count Percentage\n",
       "Gender                                 \n",
       "Female                   108      17.6%\n",
       "Male                     495      80.9%\n",
       "Other / Non-Disclosed      9       1.5%"
      ]
     },
     "execution_count": 16,
     "metadata": {},
     "output_type": "execute_result"
    }
   ],
   "source": [
    "#Percentage and Count of Male, Female, Other/Non-Disclosed Players\n",
    "allbuyers = allsales.drop_duplicates(subset=['SN'], keep='first')\n",
    "gendersummary = allbuyers.groupby([ \"Gender\"]).count()\n",
    "gendersummary = gendersummary.iloc[:,[0, 1]]\n",
    "gendersummary = gendersummary.rename(columns={'Age': 'Count'})\n",
    "gendersummary = gendersummary.rename(columns={'Item ID': 'Percentage'})\n",
    "allplayers = allbuyers['SN'].count()\n",
    "gendersummary['Percentage'] = (gendersummary['Percentage']/(allplayers))*100\n",
    "gendersummary['Percentage'] = gendersummary['Percentage'].map('{:,.1f}%'.format)\n",
    "gendersummary"
   ]
  },
  {
   "cell_type": "markdown",
   "metadata": {},
   "source": [
    "# Purchasing Analysis by Gender"
   ]
  },
  {
   "cell_type": "code",
   "execution_count": 17,
   "metadata": {},
   "outputs": [
    {
     "data": {
      "text/html": [
       "<div>\n",
       "<style>\n",
       "    .dataframe thead tr:only-child th {\n",
       "        text-align: right;\n",
       "    }\n",
       "\n",
       "    .dataframe thead th {\n",
       "        text-align: left;\n",
       "    }\n",
       "\n",
       "    .dataframe tbody tr th {\n",
       "        vertical-align: top;\n",
       "    }\n",
       "</style>\n",
       "<table border=\"1\" class=\"dataframe\">\n",
       "  <thead>\n",
       "    <tr style=\"text-align: right;\">\n",
       "      <th></th>\n",
       "      <th>Purchase Count</th>\n",
       "      <th>Average Purchase Price</th>\n",
       "      <th>Total Purchase Value</th>\n",
       "      <th>Normalized Totals</th>\n",
       "    </tr>\n",
       "    <tr>\n",
       "      <th>Gender</th>\n",
       "      <th></th>\n",
       "      <th></th>\n",
       "      <th></th>\n",
       "      <th></th>\n",
       "    </tr>\n",
       "  </thead>\n",
       "  <tbody>\n",
       "    <tr>\n",
       "      <th>Female</th>\n",
       "      <td>149</td>\n",
       "      <td>$2.85</td>\n",
       "      <td>$424.29</td>\n",
       "      <td>$3.93</td>\n",
       "    </tr>\n",
       "    <tr>\n",
       "      <th>Male</th>\n",
       "      <td>697</td>\n",
       "      <td>$2.94</td>\n",
       "      <td>$2,052.28</td>\n",
       "      <td>$4.15</td>\n",
       "    </tr>\n",
       "    <tr>\n",
       "      <th>Other / Non-Disclosed</th>\n",
       "      <td>12</td>\n",
       "      <td>$3.15</td>\n",
       "      <td>$37.86</td>\n",
       "      <td>$4.21</td>\n",
       "    </tr>\n",
       "  </tbody>\n",
       "</table>\n",
       "</div>"
      ],
      "text/plain": [
       "                       Purchase Count Average Purchase Price  \\\n",
       "Gender                                                         \n",
       "Female                            149                  $2.85   \n",
       "Male                              697                  $2.94   \n",
       "Other / Non-Disclosed              12                  $3.15   \n",
       "\n",
       "                      Total Purchase Value Normalized Totals  \n",
       "Gender                                                        \n",
       "Female                             $424.29             $3.93  \n",
       "Male                             $2,052.28             $4.15  \n",
       "Other / Non-Disclosed               $37.86             $4.21  "
      ]
     },
     "execution_count": 17,
     "metadata": {},
     "output_type": "execute_result"
    }
   ],
   "source": [
    "#Purchase Count, Average Purchase Price, Total Purchase Value, Normalized Totals by gender\n",
    "gendersalescount = allsales.groupby( [ \"Gender\"] ).count()\n",
    "gendersalescount = gendersalescount.iloc[:,[0,1]]\n",
    "gendersalescount = gendersalescount.rename(columns={'Age': 'Purchase Count'})\n",
    "gendersalescount = gendersalescount.rename(columns={'Item ID': 'Average Purchase Price'})\n",
    "gendersalestotal = allsales.groupby( [ \"Gender\"] ).sum()\n",
    "gendersalestotal = gendersalestotal.iloc[:,[2]]\n",
    "gendersalestotal = gendersalestotal.rename(columns={'Price': 'Total Purchase Value'})\n",
    "purchasinganalysis = gendersalescount.join(gendersalestotal, how='outer')\n",
    "purchasinganalysis['Average Purchase Price'] = (purchasinganalysis['Total Purchase Value']/purchasinganalysis['Average Purchase Price'])\n",
    "purchasinganalysis = purchasinganalysis.join(gendersummary, how='outer')\n",
    "purchasinganalysis = purchasinganalysis.iloc[:,[0,1,2,3]]\n",
    "purchasinganalysis = purchasinganalysis.rename(columns={'Count': 'Normalized Totals'})\n",
    "purchasinganalysis['Normalized Totals'] = (purchasinganalysis['Total Purchase Value']/purchasinganalysis['Normalized Totals'])\n",
    "purchasinganalysis['Normalized Totals'] = purchasinganalysis['Normalized Totals'].map('${:,.2f}'.format)\n",
    "purchasinganalysis['Total Purchase Value'] = purchasinganalysis['Total Purchase Value'].map('${:,.2f}'.format)\n",
    "purchasinganalysis['Average Purchase Price'] = purchasinganalysis['Average Purchase Price'].map('${:,.2f}'.format)\n",
    "purchasinganalysis"
   ]
  },
  {
   "cell_type": "markdown",
   "metadata": {},
   "source": [
    "# Age Demographics"
   ]
  },
  {
   "cell_type": "code",
   "execution_count": 18,
   "metadata": {},
   "outputs": [
    {
     "data": {
      "text/html": [
       "<div>\n",
       "<style>\n",
       "    .dataframe thead tr:only-child th {\n",
       "        text-align: right;\n",
       "    }\n",
       "\n",
       "    .dataframe thead th {\n",
       "        text-align: left;\n",
       "    }\n",
       "\n",
       "    .dataframe tbody tr th {\n",
       "        vertical-align: top;\n",
       "    }\n",
       "</style>\n",
       "<table border=\"1\" class=\"dataframe\">\n",
       "  <thead>\n",
       "    <tr style=\"text-align: right;\">\n",
       "      <th></th>\n",
       "      <th>Purchase Count</th>\n",
       "      <th>Average Purchase Price</th>\n",
       "      <th>Total Purchase Value</th>\n",
       "      <th>Normalized Totals</th>\n",
       "    </tr>\n",
       "  </thead>\n",
       "  <tbody>\n",
       "    <tr>\n",
       "      <th>&lt;10</th>\n",
       "      <td>33</td>\n",
       "      <td>$2.95</td>\n",
       "      <td>$97.28</td>\n",
       "      <td>$4.63</td>\n",
       "    </tr>\n",
       "    <tr>\n",
       "      <th>10-14</th>\n",
       "      <td>38</td>\n",
       "      <td>$2.79</td>\n",
       "      <td>$105.91</td>\n",
       "      <td>$4.24</td>\n",
       "    </tr>\n",
       "    <tr>\n",
       "      <th>15-19</th>\n",
       "      <td>144</td>\n",
       "      <td>$2.89</td>\n",
       "      <td>$416.83</td>\n",
       "      <td>$3.90</td>\n",
       "    </tr>\n",
       "    <tr>\n",
       "      <th>20-24</th>\n",
       "      <td>372</td>\n",
       "      <td>$2.92</td>\n",
       "      <td>$1,087.66</td>\n",
       "      <td>$4.00</td>\n",
       "    </tr>\n",
       "    <tr>\n",
       "      <th>25-29</th>\n",
       "      <td>134</td>\n",
       "      <td>$2.96</td>\n",
       "      <td>$396.44</td>\n",
       "      <td>$4.26</td>\n",
       "    </tr>\n",
       "    <tr>\n",
       "      <th>30-34</th>\n",
       "      <td>71</td>\n",
       "      <td>$2.97</td>\n",
       "      <td>$211.14</td>\n",
       "      <td>$4.14</td>\n",
       "    </tr>\n",
       "    <tr>\n",
       "      <th>35-39</th>\n",
       "      <td>48</td>\n",
       "      <td>$2.93</td>\n",
       "      <td>$140.77</td>\n",
       "      <td>$4.40</td>\n",
       "    </tr>\n",
       "    <tr>\n",
       "      <th>40+</th>\n",
       "      <td>18</td>\n",
       "      <td>$3.24</td>\n",
       "      <td>$58.40</td>\n",
       "      <td>$5.31</td>\n",
       "    </tr>\n",
       "  </tbody>\n",
       "</table>\n",
       "</div>"
      ],
      "text/plain": [
       "       Purchase Count Average Purchase Price Total Purchase Value  \\\n",
       "<10                33                  $2.95               $97.28   \n",
       "10-14              38                  $2.79              $105.91   \n",
       "15-19             144                  $2.89              $416.83   \n",
       "20-24             372                  $2.92            $1,087.66   \n",
       "25-29             134                  $2.96              $396.44   \n",
       "30-34              71                  $2.97              $211.14   \n",
       "35-39              48                  $2.93              $140.77   \n",
       "40+                18                  $3.24               $58.40   \n",
       "\n",
       "      Normalized Totals  \n",
       "<10               $4.63  \n",
       "10-14             $4.24  \n",
       "15-19             $3.90  \n",
       "20-24             $4.00  \n",
       "25-29             $4.26  \n",
       "30-34             $4.14  \n",
       "35-39             $4.40  \n",
       "40+               $5.31  "
      ]
     },
     "execution_count": 18,
     "metadata": {},
     "output_type": "execute_result"
    }
   ],
   "source": [
    "#Purchase Count, Average Purchase Price, Total Purchase Value and Normalized Totals by age bin\n",
    "agesummary = allbuyers.groupby([\"Age Group\"]).count()\n",
    "agegrouptotals = agesummary.iloc[:,[0]]\n",
    "agegrouptotals = agegrouptotals.rename(columns={'Age': 'Count'})\n",
    "agegrouptotals = pd.DataFrame(data=agegrouptotals, index=index)\n",
    "agesummary2 = allsales.groupby( [\"Age Group\"] ).count()\n",
    "agegroupsales = agesummary2.iloc[:,[0]]\n",
    "agegroupsales = agegroupsales.rename(columns={'Age': 'Purchase Count'})\n",
    "agegroupsales = pd.DataFrame(data=agegroupsales, index=index)\n",
    "purchasinganalysis2 = agegrouptotals.join(agegroupsales, how='outer')\n",
    "agesummary3 = allsales.groupby( [\"Age Group\"] ).sum()\n",
    "agegroupsalestotals = agesummary3.iloc[:,[2]]\n",
    "agegroupsalestotals = agegroupsalestotals.rename(columns={'Price': 'Total Purchase Value'})\n",
    "agegroupsalestotals = pd.DataFrame(data=agegroupsalestotals, index=index)\n",
    "purchasinganalysis2 = purchasinganalysis2.join(agegroupsalestotals, how='outer')\n",
    "purchasinganalysis2['Average Purchase Price'] = (purchasinganalysis2['Total Purchase Value']/purchasinganalysis2['Purchase Count'])\n",
    "purchasinganalysis2 = purchasinganalysis2.rename(columns={'Count': 'Normalized Totals'})\n",
    "purchasinganalysis2['Normalized Totals'] = (purchasinganalysis2['Total Purchase Value']/purchasinganalysis2['Normalized Totals'])\n",
    "purchasinganalysis2['Normalized Totals'] = purchasinganalysis2['Normalized Totals'].map('${:,.2f}'.format)\n",
    "purchasinganalysis2['Total Purchase Value'] = purchasinganalysis2['Total Purchase Value'].map('${:,.2f}'.format)\n",
    "purchasinganalysis2['Average Purchase Price'] = purchasinganalysis2['Average Purchase Price'].map('${:,.2f}'.format)\n",
    "purchasinganalysis2 = purchasinganalysis2[['Purchase Count', 'Average Purchase Price', 'Total Purchase Value', 'Normalized Totals']]\n",
    "purchasinganalysis2"
   ]
  },
  {
   "cell_type": "markdown",
   "metadata": {},
   "source": [
    "# Top Spenders"
   ]
  },
  {
   "cell_type": "code",
   "execution_count": 19,
   "metadata": {},
   "outputs": [
    {
     "data": {
      "text/html": [
       "<div>\n",
       "<style>\n",
       "    .dataframe thead tr:only-child th {\n",
       "        text-align: right;\n",
       "    }\n",
       "\n",
       "    .dataframe thead th {\n",
       "        text-align: left;\n",
       "    }\n",
       "\n",
       "    .dataframe tbody tr th {\n",
       "        vertical-align: top;\n",
       "    }\n",
       "</style>\n",
       "<table border=\"1\" class=\"dataframe\">\n",
       "  <thead>\n",
       "    <tr style=\"text-align: right;\">\n",
       "      <th></th>\n",
       "      <th>Purchase Count</th>\n",
       "      <th>Average Purchase Price</th>\n",
       "      <th>Total Purchase Value</th>\n",
       "    </tr>\n",
       "    <tr>\n",
       "      <th>SN</th>\n",
       "      <th></th>\n",
       "      <th></th>\n",
       "      <th></th>\n",
       "    </tr>\n",
       "  </thead>\n",
       "  <tbody>\n",
       "    <tr>\n",
       "      <th>Undirrala66</th>\n",
       "      <td>5</td>\n",
       "      <td>$3.41</td>\n",
       "      <td>$17.06</td>\n",
       "    </tr>\n",
       "    <tr>\n",
       "      <th>Aerithllora36</th>\n",
       "      <td>4</td>\n",
       "      <td>$3.77</td>\n",
       "      <td>$15.10</td>\n",
       "    </tr>\n",
       "    <tr>\n",
       "      <th>Saedue76</th>\n",
       "      <td>4</td>\n",
       "      <td>$3.39</td>\n",
       "      <td>$13.56</td>\n",
       "    </tr>\n",
       "    <tr>\n",
       "      <th>Sondim43</th>\n",
       "      <td>4</td>\n",
       "      <td>$3.25</td>\n",
       "      <td>$13.02</td>\n",
       "    </tr>\n",
       "    <tr>\n",
       "      <th>Mindimnya67</th>\n",
       "      <td>4</td>\n",
       "      <td>$3.18</td>\n",
       "      <td>$12.74</td>\n",
       "    </tr>\n",
       "  </tbody>\n",
       "</table>\n",
       "</div>"
      ],
      "text/plain": [
       "               Purchase Count Average Purchase Price Total Purchase Value\n",
       "SN                                                                       \n",
       "Undirrala66                 5                  $3.41               $17.06\n",
       "Aerithllora36               4                  $3.77               $15.10\n",
       "Saedue76                    4                  $3.39               $13.56\n",
       "Sondim43                    4                  $3.25               $13.02\n",
       "Mindimnya67                 4                  $3.18               $12.74"
      ]
     },
     "execution_count": 19,
     "metadata": {},
     "output_type": "execute_result"
    }
   ],
   "source": [
    "grpsn = allsales.groupby( [ \"SN\"] ).sum()\n",
    "sntotsales = grpsn.iloc[:,[2]]\n",
    "sntotsales = sntotsales.rename(columns={'Price': 'Total Purchase Value'})\n",
    "grpsn2 = allsales.groupby( [ \"SN\"] ).count()\n",
    "sncountsales = grpsn2.iloc[:,[0]]\n",
    "sncountsales = sncountsales.rename(columns={'Age': 'Purchase Count'})\n",
    "topspenders = sncountsales.join(sntotsales, how='outer')\n",
    "topspenders['Average Purchase Price'] = topspenders['Total Purchase Value']/topspenders['Purchase Count']\n",
    "topspenders['Average Purchase Price'] = topspenders['Average Purchase Price'].map('${:,.2f}'.format)\n",
    "topspenders = topspenders[['Purchase Count', 'Average Purchase Price', 'Total Purchase Value']]\n",
    "top5spenders = topspenders.sort_values(['Total Purchase Value'], ascending=False)\n",
    "top5spenders =  topspenders.nlargest(5, 'Total Purchase Value')\n",
    "top5spenders['Total Purchase Value'] = top5spenders['Total Purchase Value'].map('${:,.2f}'.format)\n",
    "top5spenders"
   ]
  },
  {
   "cell_type": "markdown",
   "metadata": {},
   "source": [
    "# Most Popular Items"
   ]
  },
  {
   "cell_type": "code",
   "execution_count": 20,
   "metadata": {},
   "outputs": [
    {
     "data": {
      "text/html": [
       "<div>\n",
       "<style>\n",
       "    .dataframe thead tr:only-child th {\n",
       "        text-align: right;\n",
       "    }\n",
       "\n",
       "    .dataframe thead th {\n",
       "        text-align: left;\n",
       "    }\n",
       "\n",
       "    .dataframe tbody tr th {\n",
       "        vertical-align: top;\n",
       "    }\n",
       "</style>\n",
       "<table border=\"1\" class=\"dataframe\">\n",
       "  <thead>\n",
       "    <tr style=\"text-align: right;\">\n",
       "      <th></th>\n",
       "      <th>Item Name</th>\n",
       "      <th>Purchase Count</th>\n",
       "      <th>Item Price</th>\n",
       "      <th>Total Purchase Value</th>\n",
       "    </tr>\n",
       "    <tr>\n",
       "      <th>Item ID</th>\n",
       "      <th></th>\n",
       "      <th></th>\n",
       "      <th></th>\n",
       "      <th></th>\n",
       "    </tr>\n",
       "  </thead>\n",
       "  <tbody>\n",
       "    <tr>\n",
       "      <th>84</th>\n",
       "      <td>Arcane Gem</td>\n",
       "      <td>12</td>\n",
       "      <td>$2.23</td>\n",
       "      <td>$26.76</td>\n",
       "    </tr>\n",
       "    <tr>\n",
       "      <th>39</th>\n",
       "      <td>Betrayal, Whisper of Grieving Widows</td>\n",
       "      <td>11</td>\n",
       "      <td>$2.35</td>\n",
       "      <td>$25.85</td>\n",
       "    </tr>\n",
       "    <tr>\n",
       "      <th>31</th>\n",
       "      <td>Trickster</td>\n",
       "      <td>10</td>\n",
       "      <td>$2.07</td>\n",
       "      <td>$20.70</td>\n",
       "    </tr>\n",
       "    <tr>\n",
       "      <th>44</th>\n",
       "      <td>Bonecarvin Battle Axe</td>\n",
       "      <td>9</td>\n",
       "      <td>$2.46</td>\n",
       "      <td>$22.14</td>\n",
       "    </tr>\n",
       "    <tr>\n",
       "      <th>154</th>\n",
       "      <td>Feral Katana</td>\n",
       "      <td>9</td>\n",
       "      <td>$2.19</td>\n",
       "      <td>$19.71</td>\n",
       "    </tr>\n",
       "  </tbody>\n",
       "</table>\n",
       "</div>"
      ],
      "text/plain": [
       "                                    Item Name  Purchase Count Item Price  \\\n",
       "Item ID                                                                    \n",
       "84                                 Arcane Gem              12      $2.23   \n",
       "39       Betrayal, Whisper of Grieving Widows              11      $2.35   \n",
       "31                                  Trickster              10      $2.07   \n",
       "44                      Bonecarvin Battle Axe               9      $2.46   \n",
       "154                              Feral Katana               9      $2.19   \n",
       "\n",
       "        Total Purchase Value  \n",
       "Item ID                       \n",
       "84                    $26.76  \n",
       "39                    $25.85  \n",
       "31                    $20.70  \n",
       "44                    $22.14  \n",
       "154                   $19.71  "
      ]
     },
     "execution_count": 20,
     "metadata": {},
     "output_type": "execute_result"
    }
   ],
   "source": [
    "grpop = allsales.groupby( [ \"Item ID\"] ).count()\n",
    "popitems = grpop.iloc[:,[0]]\n",
    "popitems = popitems.rename(columns={'Age': 'Purchase Count'})\n",
    "items = allsales.drop_duplicates(subset=['Item ID'], keep='first')\n",
    "itemslookup = items.iloc[:,[2,3,4]]\n",
    "itemslookup = itemslookup.set_index('Item ID')\n",
    "top5items = popitems.join(itemslookup, how='outer')\n",
    "top5items = top5items.rename(columns={'Price': 'Item Price'})\n",
    "top5items['Total Purchase Value'] = top5items['Item Price'] * top5items['Purchase Count']\n",
    "top5items = top5items[['Item Name', 'Purchase Count', 'Item Price', 'Total Purchase Value']]\n",
    "\n",
    "top5itemscount = top5items.sort_values(['Purchase Count'], ascending=False)\n",
    "top5itemscount = top5itemscount.nlargest(5, 'Purchase Count')\n",
    "top5itemscount['Item Price'] = top5itemscount['Item Price'].map('${:,.2f}'.format)\n",
    "top5itemscount['Total Purchase Value'] = top5itemscount['Total Purchase Value'].map('${:,.2f}'.format)\n",
    "top5itemscount"
   ]
  },
  {
   "cell_type": "markdown",
   "metadata": {},
   "source": [
    "# Most Profitable Items"
   ]
  },
  {
   "cell_type": "code",
   "execution_count": 21,
   "metadata": {},
   "outputs": [
    {
     "data": {
      "text/html": [
       "<div>\n",
       "<style>\n",
       "    .dataframe thead tr:only-child th {\n",
       "        text-align: right;\n",
       "    }\n",
       "\n",
       "    .dataframe thead th {\n",
       "        text-align: left;\n",
       "    }\n",
       "\n",
       "    .dataframe tbody tr th {\n",
       "        vertical-align: top;\n",
       "    }\n",
       "</style>\n",
       "<table border=\"1\" class=\"dataframe\">\n",
       "  <thead>\n",
       "    <tr style=\"text-align: right;\">\n",
       "      <th></th>\n",
       "      <th>Item Name</th>\n",
       "      <th>Purchase Count</th>\n",
       "      <th>Item Price</th>\n",
       "      <th>Total Purchase Value</th>\n",
       "    </tr>\n",
       "    <tr>\n",
       "      <th>Item ID</th>\n",
       "      <th></th>\n",
       "      <th></th>\n",
       "      <th></th>\n",
       "      <th></th>\n",
       "    </tr>\n",
       "  </thead>\n",
       "  <tbody>\n",
       "    <tr>\n",
       "      <th>34</th>\n",
       "      <td>Retribution Axe</td>\n",
       "      <td>9</td>\n",
       "      <td>$4.14</td>\n",
       "      <td>$37.26</td>\n",
       "    </tr>\n",
       "    <tr>\n",
       "      <th>107</th>\n",
       "      <td>Splitter, Foe Of Subtlety</td>\n",
       "      <td>9</td>\n",
       "      <td>$3.61</td>\n",
       "      <td>$32.49</td>\n",
       "    </tr>\n",
       "    <tr>\n",
       "      <th>108</th>\n",
       "      <td>Extraction, Quickblade Of Trembling Hands</td>\n",
       "      <td>9</td>\n",
       "      <td>$3.39</td>\n",
       "      <td>$30.51</td>\n",
       "    </tr>\n",
       "    <tr>\n",
       "      <th>115</th>\n",
       "      <td>Spectral Diamond Doomblade</td>\n",
       "      <td>7</td>\n",
       "      <td>$4.25</td>\n",
       "      <td>$29.75</td>\n",
       "    </tr>\n",
       "    <tr>\n",
       "      <th>32</th>\n",
       "      <td>Orenmir</td>\n",
       "      <td>6</td>\n",
       "      <td>$4.95</td>\n",
       "      <td>$29.70</td>\n",
       "    </tr>\n",
       "  </tbody>\n",
       "</table>\n",
       "</div>"
      ],
      "text/plain": [
       "                                         Item Name  Purchase Count Item Price  \\\n",
       "Item ID                                                                         \n",
       "34                                 Retribution Axe               9      $4.14   \n",
       "107                      Splitter, Foe Of Subtlety               9      $3.61   \n",
       "108      Extraction, Quickblade Of Trembling Hands               9      $3.39   \n",
       "115                     Spectral Diamond Doomblade               7      $4.25   \n",
       "32                                         Orenmir               6      $4.95   \n",
       "\n",
       "        Total Purchase Value  \n",
       "Item ID                       \n",
       "34                    $37.26  \n",
       "107                   $32.49  \n",
       "108                   $30.51  \n",
       "115                   $29.75  \n",
       "32                    $29.70  "
      ]
     },
     "execution_count": 21,
     "metadata": {},
     "output_type": "execute_result"
    }
   ],
   "source": [
    "top5itemsprof = top5items.sort_values(['Total Purchase Value'], ascending=False)\n",
    "top5itemsprof = top5itemsprof.nlargest(5, 'Total Purchase Value')\n",
    "top5itemsprof['Item Price'] = top5itemsprof['Item Price'].map('${:,.2f}'.format)\n",
    "top5itemsprof['Total Purchase Value'] = top5itemsprof['Total Purchase Value'].map('${:,.2f}'.format)\n",
    "top5itemsprof"
   ]
  },
  {
   "cell_type": "code",
   "execution_count": null,
   "metadata": {
    "collapsed": true
   },
   "outputs": [],
   "source": []
  }
 ],
 "metadata": {
  "anaconda-cloud": {},
  "kernelspec": {
   "display_name": "Python 3",
   "language": "python",
   "name": "python3"
  },
  "language_info": {
   "codemirror_mode": {
    "name": "ipython",
    "version": 3
   },
   "file_extension": ".py",
   "mimetype": "text/x-python",
   "name": "python",
   "nbconvert_exporter": "python",
   "pygments_lexer": "ipython3",
   "version": "3.6.3"
  }
 },
 "nbformat": 4,
 "nbformat_minor": 2
}
